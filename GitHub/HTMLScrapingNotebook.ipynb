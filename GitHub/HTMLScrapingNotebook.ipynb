{
 "cells": [
  {
   "cell_type": "code",
   "execution_count": 12,
   "metadata": {},
   "outputs": [],
   "source": [
    "#import libraries\n",
    "\n",
    "from email import message\n",
    "from email.mime.application import MIMEApplication\n",
    "from email.mime.multipart import MIMEMultipart\n",
    "from http import server\n",
    "from bs4 import BeautifulSoup as bs\n",
    "import requests\n",
    "import urllib.request"
   ]
  },
  {
   "cell_type": "code",
   "execution_count": 13,
   "metadata": {},
   "outputs": [],
   "source": [
    "url = 'https://www.dailyzen.com/'\n",
    "headers = {\"User-Agent\": \"Mozilla/5.0 (Windows NT 10.0; Win64; x64; rv:96.0) Gecko/20100101 Firefox/96.0\",\"Accept-Encoding\":\"gzip, deflate, br\",\"Accept\":\"text/html,application/xhtml+xml,application/xml;q=0.9,image/avif,image/webp,*/*;q=0.8\",\"Dnt\": \"1\",\"Connection\":\"close\",\"Upgrade-Insecure-Requests\":\"1\"}\n",
    "html = urllib.request.urlopen(url)\n",
    "\n",
    "#identify the get request and variable\n",
    "def getdata(url):\n",
    "    r = requests.get(url)\n",
    "    return r.text"
   ]
  },
  {
   "cell_type": "code",
   "execution_count": 14,
   "metadata": {},
   "outputs": [],
   "source": [
    "#parse the html\n",
    "htmldata = getdata(\"https://www.dailyzen.com/\")\n",
    "soup = bs(htmldata, 'html.parser')\n",
    "data = ''\n"
   ]
  },
  {
   "cell_type": "code",
   "execution_count": 15,
   "metadata": {},
   "outputs": [],
   "source": [
    "#just scraping for text value in the section of html called \"blockquote\"\n",
    "for data in soup.find_all(\"blockquote\"):\n",
    "    dailymsg = print(data.get_text(), file=open('dailyquote.txt', \"a\"))"
   ]
  },
  {
   "cell_type": "code",
   "execution_count": 17,
   "metadata": {},
   "outputs": [
    {
     "name": "stdout",
     "output_type": "stream",
     "text": [
      "\n",
      "\t\t\t\t\t\tA man of the Way comes \n",
      "Rapping at my brushwood gate, \n",
      "Wants to discuss the \n",
      "Essentials of Zen experience. \n",
      "Don’t take it wrong if this \n",
      "Mountain monk’s too lazy \n",
      "To open his mouth: \n",
      "Late spring warblers \n",
      "Singing their hearts out, \n",
      "A village of drifting petals.\n",
      "\t\t                    \n"
     ]
    }
   ],
   "source": [
    "#show your work\n",
    "print(data.get_text())\n",
    "\n",
    "#print it to a file\n",
    "print(dailymsg, file=open('quote2.txt', \"a\"))"
   ]
  },
  {
   "cell_type": "code",
   "execution_count": null,
   "metadata": {},
   "outputs": [],
   "source": []
  }
 ],
 "metadata": {
  "interpreter": {
   "hash": "2be5faf79681da6f2a61fdfdd5405d65d042280f7fba6178067603e3a2925119"
  },
  "kernelspec": {
   "display_name": "Python 3.10.2 64-bit",
   "language": "python",
   "name": "python3"
  },
  "language_info": {
   "codemirror_mode": {
    "name": "ipython",
    "version": 3
   },
   "file_extension": ".py",
   "mimetype": "text/x-python",
   "name": "python",
   "nbconvert_exporter": "python",
   "pygments_lexer": "ipython3",
   "version": "3.10.2"
  },
  "orig_nbformat": 4
 },
 "nbformat": 4,
 "nbformat_minor": 2
}
